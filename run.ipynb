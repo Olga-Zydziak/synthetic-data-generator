{
 "cells": [
  {
   "cell_type": "code",
   "execution_count": 1,
   "id": "140ca803-87c0-4969-9e2e-c7613faab5a0",
   "metadata": {
    "tags": []
   },
   "outputs": [],
   "source": [
    "#%pip install google-cloud-storage"
   ]
  },
  {
   "cell_type": "code",
   "execution_count": 2,
   "id": "90653286-315f-4be9-b088-ca49b5d7aeeb",
   "metadata": {
    "tags": []
   },
   "outputs": [],
   "source": [
    "from pathlib import Path\n",
    "\n",
    "\n",
    "from fraudforge.config import (\n",
    "   DataQualityConfig,\n",
    "   DataQualityIssue,\n",
    "   BucketOptions,\n",
    "   GeneratorConfig,\n",
    "   OutputOptions,\n",
    ")\n",
    "\n",
    "from fraudforge.config import DataQualityConfig, GeneratorConfig, OutputOptions\n",
    "from fraudforge.generator import TransactionGenerator"
   ]
  },
  {
   "cell_type": "code",
   "execution_count": 7,
   "id": "b056585c-294d-4fae-8668-76a67bf87ebd",
   "metadata": {
    "tags": []
   },
   "outputs": [],
   "source": [
    "cfg = GeneratorConfig(\n",
    "       records=5_000,\n",
    "       fraud_rate=0.05,\n",
    "       fraud_type_dist={\n",
    "           \"CARD_NOT_PRESENT\": 0.4,\n",
    "           \"ACCOUNT_TAKEOVER\": 0.2,\n",
    "           \"SYNTHETIC_IDENTITY\": 0.2,\n",
    "           \"SOCIAL_ENGINEERING\": 0.2,\n",
    "       },\n",
    "       age_dist={\n",
    "           \"A18_25\": 0.3,\n",
    "           \"A26_35\": 0.3,\n",
    "           \"A36_50\": 0.25,\n",
    "           \"A50_PLUS\": 0.15,\n",
    "       },\n",
    "       causal_fraud=True,\n",
    "       causal_fraud_rate=0.02,\n",
    "\n",
    "       output=OutputOptions(\n",
    "           format=\"parquet\",\n",
    "           outdir=Path(\"./notebook_out\"),\n",
    "           chunk_size=10_000,\n",
    "           bucket=BucketOptions(\n",
    "               name=\"datalake-raw-dark-data-discovery\",\n",
    "               prefix=\"synthetic_data_for_fraud\",\n",
    "               local_mount=Path(\"./mounted_buckets\"),\n",
    "           ),\n",
    "        ),\n",
    "        data_quality=DataQualityConfig(\n",
    "           enabled=True,\n",
    "           row_dirty_rate=0.05,\n",
    "           issue_dist={\n",
    "               DataQualityIssue.MISSING_VALUES: 0.4,\n",
    "               DataQualityIssue.TYPOS_NOISE: 0.3,\n",
    "               DataQualityIssue.OUTLIER_AMOUNT: 0.2,\n",
    "               DataQualityIssue.DATE_JITTER: 0.1,\n",
    "           },\n",
    "        ),\n",
    "\n",
    "       \n",
    "\n",
    "\n",
    "   )"
   ]
  },
  {
   "cell_type": "code",
   "execution_count": 8,
   "id": "40fba397-efc4-43f5-9936-2729fea65c34",
   "metadata": {
    "tags": []
   },
   "outputs": [
    {
     "data": {
      "text/plain": [
       "{'counts': {'total_records': 5000,\n",
       "  'non_fraud': 4750,\n",
       "  'fraud_total': 250,\n",
       "  'fraud_by': {'fraud_type': {'CARD_NOT_PRESENT': 98,\n",
       "    'ACCOUNT_TAKEOVER': 57,\n",
       "    'SYNTHETIC_IDENTITY': 48,\n",
       "    'SOCIAL_ENGINEERING': 47},\n",
       "   'age_band': {'A26_35': 82, 'A18_25': 71, 'A36_50': 58, 'A50_PLUS': 39},\n",
       "   'region': {'EAST': 70, 'WEST': 66, 'SOUTH': 61, 'NORTH': 53},\n",
       "   'channel': {'WEB': 99, 'APP': 77, 'POS': 38, 'ATM': 22, 'WIRE': 14},\n",
       "   'merchant_category': {'restaurant': 56,\n",
       "    'fashion': 55,\n",
       "    'grocery': 48,\n",
       "    'online_services': 38,\n",
       "    'electronics': 29,\n",
       "    'travel': 23,\n",
       "    'restaFurant': 1}}},\n",
       " 'causal': {'causal_fraud_count': 100,\n",
       "  'causal_fraud_share': 0.02,\n",
       "  'scenarios': {'causal_simpson': {'count': 50,\n",
       "    'description': 'Higher transaction amounts appear safer within each region yet become riskier when regions are aggregated, mimicking a manual review bias.'},\n",
       "   'causal_collider': {'count': 50,\n",
       "    'description': 'Fraudulent accounts trigger manual reviews, making higher amounts appear safer within the reviewed subset and creating a collider bias between amount and fraud labels.'}}},\n",
       " 'data_quality': {'dirty_rows': 233,\n",
       "  'dirty_share': 0.0466,\n",
       "  'issues_by_type': {'OUTLIER_AMOUNT': 75,\n",
       "   'MISSING_VALUES': 133,\n",
       "   'TYPOS_NOISE': 98,\n",
       "   'DATE_JITTER': 46}},\n",
       " 'lineage': {'seed': None,\n",
       "  'generator_version': '0.1.0',\n",
       "  'timestamp': '2025-10-14T21:17:24.786100+00:00',\n",
       "  'config': {'records': 5000,\n",
       "   'seed': None,\n",
       "   'start_date': '2025-10-14',\n",
       "   'days': 7,\n",
       "   'age_dist': {'A18_25': 0.3,\n",
       "    'A26_35': 0.3,\n",
       "    'A36_50': 0.25,\n",
       "    'A50_PLUS': 0.15},\n",
       "   'channel_dist': None,\n",
       "   'region_dist': None,\n",
       "   'merchant_category_dist': None,\n",
       "   'fraud_rate': 0.05,\n",
       "   'fraud_type_dist': {'CARD_NOT_PRESENT': 0.4,\n",
       "    'ACCOUNT_TAKEOVER': 0.2,\n",
       "    'SYNTHETIC_IDENTITY': 0.2,\n",
       "    'SOCIAL_ENGINEERING': 0.2},\n",
       "   'causal_fraud': True,\n",
       "   'causal_fraud_rate': 0.02,\n",
       "   'output': {'format': 'parquet',\n",
       "    'outdir': '/home/jupyter/olga_zydziak/version_beta/Folder/synthetic-data-generator/notebook_out',\n",
       "    'chunk_size': 10000,\n",
       "    'bucket': {'name': 'datalake-raw-dark-data-discovery',\n",
       "     'prefix': 'synthetic_data_for_fraud',\n",
       "     'local_mount': '/home/jupyter/olga_zydziak/version_beta/Folder/synthetic-data-generator/mounted_buckets'}},\n",
       "   'data_quality': {'enabled': True,\n",
       "    'row_dirty_rate': 0.05,\n",
       "    'issue_dist': {'MISSING_VALUES': 0.39999999999999997,\n",
       "     'TYPOS_NOISE': 0.3,\n",
       "     'OUTLIER_AMOUNT': 0.19999999999999998,\n",
       "     'DATE_JITTER': 0.09999999999999999},\n",
       "    'max_issues_per_row': 2,\n",
       "    'missing_cols_whitelist': None,\n",
       "    'typos_cols_whitelist': None},\n",
       "   'amount_model': None,\n",
       "   'time_model': None,\n",
       "   'reference_fit': None,\n",
       "   'synth_backend': 'none',\n",
       "   'synth_calibrate_cols': [],\n",
       "   'synth_condition_cols': [],\n",
       "   'synth_fit_from': None,\n",
       "   'synth_max_rows': None,\n",
       "   'eval_synth': False}},\n",
       " 'synth': {'backend': 'none',\n",
       "  'calibrate_cols': [],\n",
       "  'condition_cols': [],\n",
       "  'dp_epsilon': None,\n",
       "  'quality_score': None}}"
      ]
     },
     "execution_count": 8,
     "metadata": {},
     "output_type": "execute_result"
    }
   ],
   "source": [
    "metadata = TransactionGenerator(cfg).run()\n",
    "metadata"
   ]
  },
  {
   "cell_type": "code",
   "execution_count": null,
   "id": "d2964a27-61dd-4f13-9467-3712d3200182",
   "metadata": {},
   "outputs": [],
   "source": []
  }
 ],
 "metadata": {
  "environment": {
   "kernel": "generator-synthetis-data-env",
   "name": "workbench-notebooks.m129",
   "type": "gcloud",
   "uri": "us-docker.pkg.dev/deeplearning-platform-release/gcr.io/workbench-notebooks:m129"
  },
  "kernelspec": {
   "display_name": "Synthetis data (Python 3.11)",
   "language": "python",
   "name": "generator-synthetis-data-env"
  },
  "language_info": {
   "codemirror_mode": {
    "name": "ipython",
    "version": 3
   },
   "file_extension": ".py",
   "mimetype": "text/x-python",
   "name": "python",
   "nbconvert_exporter": "python",
   "pygments_lexer": "ipython3",
   "version": "3.11.14"
  }
 },
 "nbformat": 4,
 "nbformat_minor": 5
}
