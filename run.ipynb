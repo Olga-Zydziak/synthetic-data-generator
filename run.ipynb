{
 "cells": [
  {
   "cell_type": "code",
   "execution_count": 18,
   "id": "90653286-315f-4be9-b088-ca49b5d7aeeb",
   "metadata": {
    "tags": []
   },
   "outputs": [],
   "source": [
    "from pathlib import Path\n",
    "\n",
    "from fraudforge.config import DataQualityConfig, GeneratorConfig, OutputOptions\n",
    "from fraudforge.generator import TransactionGenerator"
   ]
  },
  {
   "cell_type": "code",
   "execution_count": 16,
   "id": "b056585c-294d-4fae-8668-76a67bf87ebd",
   "metadata": {
    "tags": []
   },
   "outputs": [],
   "source": [
    "cfg = GeneratorConfig(\n",
    "       records=5_000,\n",
    "       fraud_rate=0.05,\n",
    "       fraud_type_dist={\n",
    "           \"CARD_NOT_PRESENT\": 0.4,\n",
    "           \"ACCOUNT_TAKEOVER\": 0.2,\n",
    "           \"SYNTHETIC_IDENTITY\": 0.2,\n",
    "           \"SOCIAL_ENGINEERING\": 0.2,\n",
    "       },\n",
    "       age_dist={\n",
    "           \"A18_25\": 0.3,\n",
    "           \"A26_35\": 0.3,\n",
    "           \"A36_50\": 0.25,\n",
    "           \"A50_PLUS\": 0.15,\n",
    "       },\n",
    "       causal_fraud=True,\n",
    "       causal_fraud_rate=0.02,\n",
    "       output=OutputOptions(format=\"parquet\", outdir=Path(\"./notebook_out\"), chunk_size=10_000),\n",
    "       data_quality=DataQualityConfig(enabled=True, row_dirty_rate=0.05,issue_dist={\"OUTLIER_AMOUNT\":0.05}),\n",
    "   )"
   ]
  },
  {
   "cell_type": "code",
   "execution_count": 17,
   "id": "40fba397-efc4-43f5-9936-2729fea65c34",
   "metadata": {
    "tags": []
   },
   "outputs": [
    {
     "ename": "ValueError",
     "evalue": "Cannot take a larger sample than population when replace is False",
     "output_type": "error",
     "traceback": [
      "\u001b[31m---------------------------------------------------------------------------\u001b[39m",
      "\u001b[31mValueError\u001b[39m                                Traceback (most recent call last)",
      "\u001b[36mCell\u001b[39m\u001b[36m \u001b[39m\u001b[32mIn[17]\u001b[39m\u001b[32m, line 1\u001b[39m\n\u001b[32m----> \u001b[39m\u001b[32m1\u001b[39m metadata = \u001b[43mTransactionGenerator\u001b[49m\u001b[43m(\u001b[49m\u001b[43mcfg\u001b[49m\u001b[43m)\u001b[49m\u001b[43m.\u001b[49m\u001b[43mrun\u001b[49m\u001b[43m(\u001b[49m\u001b[43m)\u001b[49m\n\u001b[32m      2\u001b[39m metadata\n",
      "\u001b[36mFile \u001b[39m\u001b[32m~/olga_zydziak/version_beta/Folder/synthetic-data-generator/fraudforge/generator.py:161\u001b[39m, in \u001b[36mTransactionGenerator.run\u001b[39m\u001b[34m(self)\u001b[39m\n\u001b[32m    159\u001b[39m issues: Counter[\u001b[38;5;28mstr\u001b[39m]\n\u001b[32m    160\u001b[39m \u001b[38;5;28;01mif\u001b[39;00m cfg.data_quality.enabled:\n\u001b[32m--> \u001b[39m\u001b[32m161\u001b[39m     chunk_df, issues = \u001b[43minjector\u001b[49m\u001b[43m.\u001b[49m\u001b[43mapply\u001b[49m\u001b[43m(\u001b[49m\u001b[43mchunk_df\u001b[49m\u001b[43m,\u001b[49m\u001b[43m \u001b[49m\u001b[43minjector_rng\u001b[49m\u001b[43m)\u001b[49m\n\u001b[32m    162\u001b[39m \u001b[38;5;28;01melse\u001b[39;00m:\n\u001b[32m    163\u001b[39m     issues = Counter[\u001b[38;5;28mstr\u001b[39m]()\n",
      "\u001b[36mFile \u001b[39m\u001b[32m~/olga_zydziak/version_beta/Folder/synthetic-data-generator/fraudforge/dq/injectors.py:51\u001b[39m, in \u001b[36mDefaultDirtyInjector.apply\u001b[39m\u001b[34m(self, df, rng)\u001b[39m\n\u001b[32m     49\u001b[39m indices = np.flatnonzero(mask)\n\u001b[32m     50\u001b[39m \u001b[38;5;28;01mfor\u001b[39;00m idx \u001b[38;5;129;01min\u001b[39;00m indices:\n\u001b[32m---> \u001b[39m\u001b[32m51\u001b[39m     issues = \u001b[38;5;28;43mself\u001b[39;49m\u001b[43m.\u001b[49m\u001b[43m_sample_issues\u001b[49m\u001b[43m(\u001b[49m\u001b[43mrng\u001b[49m\u001b[43m)\u001b[49m\n\u001b[32m     52\u001b[39m     \u001b[38;5;28;01mfor\u001b[39;00m issue \u001b[38;5;129;01min\u001b[39;00m issues:\n\u001b[32m     53\u001b[39m         \u001b[38;5;28mself\u001b[39m._apply_issue(mutated, idx, issue, rng)\n",
      "\u001b[36mFile \u001b[39m\u001b[32m~/olga_zydziak/version_beta/Folder/synthetic-data-generator/fraudforge/dq/injectors.py:67\u001b[39m, in \u001b[36mDefaultDirtyInjector._sample_issues\u001b[39m\u001b[34m(self, rng)\u001b[39m\n\u001b[32m     65\u001b[39m \u001b[38;5;28;01mif\u001b[39;00m count <= \u001b[32m0\u001b[39m \u001b[38;5;129;01mor\u001b[39;00m \u001b[38;5;28mself\u001b[39m._issue_probs.size == \u001b[32m0\u001b[39m:\n\u001b[32m     66\u001b[39m     \u001b[38;5;28;01mreturn\u001b[39;00m []\n\u001b[32m---> \u001b[39m\u001b[32m67\u001b[39m indices = \u001b[43mrng\u001b[49m\u001b[43m.\u001b[49m\u001b[43mchoice\u001b[49m\u001b[43m(\u001b[49m\u001b[38;5;28;43mlen\u001b[39;49m\u001b[43m(\u001b[49m\u001b[38;5;28;43mself\u001b[39;49m\u001b[43m.\u001b[49m\u001b[43m_issues\u001b[49m\u001b[43m)\u001b[49m\u001b[43m,\u001b[49m\u001b[43m \u001b[49m\u001b[43msize\u001b[49m\u001b[43m=\u001b[49m\u001b[43mcount\u001b[49m\u001b[43m,\u001b[49m\u001b[43m \u001b[49m\u001b[43mreplace\u001b[49m\u001b[43m=\u001b[49m\u001b[38;5;28;43;01mFalse\u001b[39;49;00m\u001b[43m,\u001b[49m\u001b[43m \u001b[49m\u001b[43mp\u001b[49m\u001b[43m=\u001b[49m\u001b[38;5;28;43mself\u001b[39;49m\u001b[43m.\u001b[49m\u001b[43m_issue_probs\u001b[49m\u001b[43m)\u001b[49m\n\u001b[32m     68\u001b[39m \u001b[38;5;28;01mreturn\u001b[39;00m [\u001b[38;5;28mself\u001b[39m._issues[\u001b[38;5;28mint\u001b[39m(i)] \u001b[38;5;28;01mfor\u001b[39;00m i \u001b[38;5;129;01min\u001b[39;00m np.atleast_1d(indices)]\n",
      "\u001b[36mFile \u001b[39m\u001b[32mnumpy/random/_generator.pyx:920\u001b[39m, in \u001b[36mnumpy.random._generator.Generator.choice\u001b[39m\u001b[34m()\u001b[39m\n",
      "\u001b[31mValueError\u001b[39m: Cannot take a larger sample than population when replace is False"
     ]
    }
   ],
   "source": [
    "metadata = TransactionGenerator(cfg).run()\n",
    "metadata"
   ]
  },
  {
   "cell_type": "code",
   "execution_count": null,
   "id": "d2964a27-61dd-4f13-9467-3712d3200182",
   "metadata": {},
   "outputs": [],
   "source": []
  }
 ],
 "metadata": {
  "environment": {
   "kernel": "generator-synthetis-data-env",
   "name": "workbench-notebooks.m129",
   "type": "gcloud",
   "uri": "us-docker.pkg.dev/deeplearning-platform-release/gcr.io/workbench-notebooks:m129"
  },
  "kernelspec": {
   "display_name": "Synthetis data (Python 3.11)",
   "language": "python",
   "name": "generator-synthetis-data-env"
  },
  "language_info": {
   "codemirror_mode": {
    "name": "ipython",
    "version": 3
   },
   "file_extension": ".py",
   "mimetype": "text/x-python",
   "name": "python",
   "nbconvert_exporter": "python",
   "pygments_lexer": "ipython3",
   "version": "3.11.14"
  }
 },
 "nbformat": 4,
 "nbformat_minor": 5
}
