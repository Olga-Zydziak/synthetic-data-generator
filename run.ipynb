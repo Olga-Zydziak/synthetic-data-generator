{
 "cells": [
  {
   "cell_type": "code",
   "execution_count": 4,
   "id": "90653286-315f-4be9-b088-ca49b5d7aeeb",
   "metadata": {
    "tags": []
   },
   "outputs": [],
   "source": [
    "from pathlib import Path\n",
    "\n",
    "\n",
    "from fraudforge.config import (\n",
    "   DataQualityConfig,\n",
    "   DataQualityIssue,\n",
    "   BucketOptions,\n",
    "   GeneratorConfig,\n",
    "   OutputOptions,\n",
    ")\n",
    "\n",
    "from fraudforge.config import DataQualityConfig, GeneratorConfig, OutputOptions\n",
    "from fraudforge.generator import TransactionGenerator"
   ]
  },
  {
   "cell_type": "code",
   "execution_count": 8,
   "id": "b056585c-294d-4fae-8668-76a67bf87ebd",
   "metadata": {
    "tags": []
   },
   "outputs": [],
   "source": [
    "cfg = GeneratorConfig(\n",
    "       records=5_000,\n",
    "       fraud_rate=0.05,\n",
    "       fraud_type_dist={\n",
    "           \"CARD_NOT_PRESENT\": 0.4,\n",
    "           \"ACCOUNT_TAKEOVER\": 0.2,\n",
    "           \"SYNTHETIC_IDENTITY\": 0.2,\n",
    "           \"SOCIAL_ENGINEERING\": 0.2,\n",
    "       },\n",
    "       age_dist={\n",
    "           \"A18_25\": 0.3,\n",
    "           \"A26_35\": 0.3,\n",
    "           \"A36_50\": 0.25,\n",
    "           \"A50_PLUS\": 0.15,\n",
    "       },\n",
    "       causal_fraud=True,\n",
    "       causal_fraud_rate=0.02,\n",
    "\n",
    "       output=OutputOptions(\n",
    "           format=\"parquet\",\n",
    "           outdir=Path(\"./notebook_out\"),\n",
    "           chunk_size=10_000,\n",
    "           bucket=BucketOptions(\n",
    "               name=\"datalake-raw-dark-data-discovery\",\n",
    "               prefix=\"synthetic_data_for_fraud\",\n",
    "               local_mount=Path(\"./mounted_buckets\"),\n",
    "           ),\n",
    "        ),\n",
    "        data_quality=DataQualityConfig(\n",
    "           enabled=True,\n",
    "           row_dirty_rate=0.05,\n",
    "           issue_dist={\n",
    "               DataQualityIssue.MISSING_VALUES: 0.4,\n",
    "               DataQualityIssue.TYPOS_NOISE: 0.3,\n",
    "               DataQualityIssue.OUTLIER_AMOUNT: 0.2,\n",
    "               DataQualityIssue.DATE_JITTER: 0.1,\n",
    "           },\n",
    "        ),\n",
    "\n",
    "       \n",
    "\n",
    "\n",
    "   )"
   ]
  },
  {
   "cell_type": "code",
   "execution_count": 9,
   "id": "40fba397-efc4-43f5-9936-2729fea65c34",
   "metadata": {
    "tags": []
   },
   "outputs": [
    {
     "ename": "TypeError",
     "evalue": "ParquetWriter.__init__() got an unexpected keyword argument 'bucket'",
     "output_type": "error",
     "traceback": [
      "\u001b[31m---------------------------------------------------------------------------\u001b[39m",
      "\u001b[31mTypeError\u001b[39m                                 Traceback (most recent call last)",
      "\u001b[36mCell\u001b[39m\u001b[36m \u001b[39m\u001b[32mIn[9]\u001b[39m\u001b[32m, line 1\u001b[39m\n\u001b[32m----> \u001b[39m\u001b[32m1\u001b[39m metadata = \u001b[43mTransactionGenerator\u001b[49m\u001b[43m(\u001b[49m\u001b[43mcfg\u001b[49m\u001b[43m)\u001b[49m\u001b[43m.\u001b[49m\u001b[43mrun\u001b[49m\u001b[43m(\u001b[49m\u001b[43m)\u001b[49m\n\u001b[32m      2\u001b[39m metadata\n",
      "\u001b[36mFile \u001b[39m\u001b[32m~/olga_zydziak/version_beta/Folder/synthetic-data-generator/fraudforge/generator.py:52\u001b[39m, in \u001b[36mTransactionGenerator.run\u001b[39m\u001b[34m(self)\u001b[39m\n\u001b[32m     42\u001b[39m \u001b[38;5;250m\u001b[39m\u001b[33;03m\"\"\"Generate the dataset and return metadata.\u001b[39;00m\n\u001b[32m     43\u001b[39m \n\u001b[32m     44\u001b[39m \u001b[33;03mReturns:\u001b[39;00m\n\u001b[32m   (...)\u001b[39m\u001b[32m     48\u001b[39m \u001b[33;03m    Time: O(n); Memory: O(1) beyond chunk buffers.\u001b[39;00m\n\u001b[32m     49\u001b[39m \u001b[33;03m\"\"\"\u001b[39;00m\n\u001b[32m     51\u001b[39m cfg = \u001b[38;5;28mself\u001b[39m._maybe_calibrate(\u001b[38;5;28mself\u001b[39m._cfg)\n\u001b[32m---> \u001b[39m\u001b[32m52\u001b[39m writer = \u001b[38;5;28;43mself\u001b[39;49m\u001b[43m.\u001b[49m\u001b[43m_build_writer\u001b[49m\u001b[43m(\u001b[49m\u001b[43mcfg\u001b[49m\u001b[43m)\u001b[49m\n\u001b[32m     53\u001b[39m synthesizer, synth_info = create_synthesizer(\n\u001b[32m     54\u001b[39m     cfg.synth_backend,\n\u001b[32m     55\u001b[39m     calibrate_cols=cfg.synth_calibrate_cols,\n\u001b[32m     56\u001b[39m     condition_cols=cfg.synth_condition_cols,\n\u001b[32m     57\u001b[39m     dp_epsilon=cfg.reference_fit.dp_epsilon \u001b[38;5;28;01mif\u001b[39;00m cfg.reference_fit \u001b[38;5;28;01melse\u001b[39;00m \u001b[38;5;28;01mNone\u001b[39;00m,\n\u001b[32m     58\u001b[39m )\n\u001b[32m     60\u001b[39m metadata = MetadataCollector(cfg)\n",
      "\u001b[36mFile \u001b[39m\u001b[32m~/olga_zydziak/version_beta/Folder/synthetic-data-generator/fraudforge/generator.py:234\u001b[39m, in \u001b[36mTransactionGenerator._build_writer\u001b[39m\u001b[34m(self, cfg)\u001b[39m\n\u001b[32m    232\u001b[39m     \u001b[38;5;28;01mreturn\u001b[39;00m JSONWriter(outdir, bucket=bucket)\n\u001b[32m    233\u001b[39m \u001b[38;5;28;01mif\u001b[39;00m cfg.output.format == \u001b[33m\"\u001b[39m\u001b[33mparquet\u001b[39m\u001b[33m\"\u001b[39m:\n\u001b[32m--> \u001b[39m\u001b[32m234\u001b[39m     \u001b[38;5;28;01mreturn\u001b[39;00m \u001b[43mParquetWriter\u001b[49m\u001b[43m(\u001b[49m\u001b[43moutdir\u001b[49m\u001b[43m,\u001b[49m\u001b[43m \u001b[49m\u001b[43mbucket\u001b[49m\u001b[43m=\u001b[49m\u001b[43mbucket\u001b[49m\u001b[43m)\u001b[49m\n\u001b[32m    236\u001b[39m \u001b[38;5;28;01mif\u001b[39;00m cfg.output.format == \u001b[33m\"\u001b[39m\u001b[33mcsv\u001b[39m\u001b[33m\"\u001b[39m:\n\u001b[32m    237\u001b[39m     \u001b[38;5;28;01mreturn\u001b[39;00m CSVWriter(outdir)\n",
      "\u001b[31mTypeError\u001b[39m: ParquetWriter.__init__() got an unexpected keyword argument 'bucket'"
     ]
    }
   ],
   "source": [
    "metadata = TransactionGenerator(cfg).run()\n",
    "metadata"
   ]
  },
  {
   "cell_type": "code",
   "execution_count": null,
   "id": "d2964a27-61dd-4f13-9467-3712d3200182",
   "metadata": {},
   "outputs": [],
   "source": []
  }
 ],
 "metadata": {
  "environment": {
   "kernel": "generator-synthetis-data-env",
   "name": "workbench-notebooks.m129",
   "type": "gcloud",
   "uri": "us-docker.pkg.dev/deeplearning-platform-release/gcr.io/workbench-notebooks:m129"
  },
  "kernelspec": {
   "display_name": "Synthetis data (Python 3.11)",
   "language": "python",
   "name": "generator-synthetis-data-env"
  },
  "language_info": {
   "codemirror_mode": {
    "name": "ipython",
    "version": 3
   },
   "file_extension": ".py",
   "mimetype": "text/x-python",
   "name": "python",
   "nbconvert_exporter": "python",
   "pygments_lexer": "ipython3",
   "version": "3.11.14"
  }
 },
 "nbformat": 4,
 "nbformat_minor": 5
}
